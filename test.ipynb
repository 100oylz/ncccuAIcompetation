{
 "cells": [
  {
   "cell_type": "markdown",
   "metadata": {
    "pycharm": {
     "name": "#%% md\n"
    }
   },
   "source": [
    "### 1. 加载模块"
   ]
  },
  {
   "cell_type": "code",
   "execution_count": 1,
   "metadata": {},
   "outputs": [],
   "source": [
    "%load_ext autoreload\n",
    "%autoreload 2\n",
    "from utils import load_all\n",
    "from Loss_Function import compute_ciou_loss, DFL_loss\n",
    "from Model import Model\n",
    "import torch\n",
    "import torch.nn as nn\n",
    "import matplotlib.pyplot as plt\n",
    "from torch.utils.data import DataLoader, Dataset, random_split\n",
    "from torchvision import transforms\n",
    "import config\n"
   ]
  },
  {
   "cell_type": "markdown",
   "metadata": {
    "pycharm": {
     "name": "#%% md\n"
    }
   },
   "source": [
    "### 2.测试csv"
   ]
  },
  {
   "cell_type": "code",
   "execution_count": 2,
   "metadata": {
    "pycharm": {
     "name": "#%%\n"
    }
   },
   "outputs": [],
   "source": [
    "# image, csv = load_all(config.DIRPATH)"
   ]
  },
  {
   "cell_type": "code",
   "execution_count": 3,
   "metadata": {
    "pycharm": {
     "name": "#%%\n"
    }
   },
   "outputs": [],
   "source": [
    "# csv_slice = csv[3].iloc[:, 3:].values\n",
    "# csv"
   ]
  },
  {
   "cell_type": "markdown",
   "metadata": {
    "pycharm": {
     "name": "#%% md\n"
    }
   },
   "source": [
    "### 3. 定义Dataset"
   ]
  },
  {
   "cell_type": "code",
   "execution_count": 4,
   "metadata": {
    "pycharm": {
     "name": "#%%\n"
    }
   },
   "outputs": [],
   "source": [
    "data_transform = transforms.Compose([\n",
    "    transforms.ToTensor(),\n",
    "    transforms.Resize((640, 640)),\n",
    "    transforms.Normalize((0.5,0.5,0.5), (0.5,0.5,0.5))\n",
    "])\n",
    "class_to_index = {\n",
    "    'E2': 0, 'B52': 1, 'B2': 2, 'Mirage2000': 3, 'F4': 4,\n",
    "    'F14': 5, 'Tornado': 6, 'J20': 7, 'JAS39': 8\n",
    "}\n",
    "\n",
    "class MyDataset(Dataset):\n",
    "    '''\n",
    "    将图片和[class, Bbox]转化为Tensor\n",
    "    返回值：\n",
    "    1. image: [bs, 640, 640, 3]\n",
    "    2. target: [bs, 物品个数, class, xmin, ymin, xmax, ymax]\n",
    "    '''\n",
    "    def __init__(self, path, transform):\n",
    "        super().__init__()\n",
    "        self.image, self.csv = load_all(path)\n",
    "        self.transform = transform\n",
    "    def __len__(self):\n",
    "        return len(self.image)\n",
    "\n",
    "    def __getitem__(self, index):\n",
    "        image = self.transform(self.image[index])\n",
    "        csv = self.csv[index]\n",
    "        # filename width height class xmin ymin xmax ymax\n",
    "        target_array = csv.iloc[:, 3:].values\n",
    "        target_class = torch.zeros((8400, 9))\n",
    "        target_bbox = torch.zeros((8400, 4))\n",
    "        for i in range(len(target_array)):\n",
    "            target_class[i][class_to_index[target_array[i][0]]] = 1\n",
    "            target_bbox[i, 0] = target_array[i][1]\n",
    "            target_bbox[i, 1] = target_array[i][2]\n",
    "            target_bbox[i, 2] = target_array[i][3]\n",
    "            target_bbox[i, 3] = target_array[i][4]\n",
    "\n",
    "        return image, target_class, target_bbox"
   ]
  },
  {
   "cell_type": "markdown",
   "metadata": {
    "pycharm": {
     "name": "#%% md\n"
    }
   },
   "source": [
    "### 4. 定义Dataloader, net, Loss_Function, optimizer"
   ]
  },
  {
   "cell_type": "code",
   "execution_count": 5,
   "metadata": {},
   "outputs": [],
   "source": [
    "dataset = MyDataset(config.DIRPATH, data_transform)"
   ]
  },
  {
   "cell_type": "code",
   "execution_count": 6,
   "metadata": {
    "pycharm": {
     "name": "#%%\n"
    }
   },
   "outputs": [],
   "source": [
    "device = torch.device('cuda')\n",
    "# device = torch.device('cpu')\n",
    "dataloader = DataLoader(dataset=dataset, batch_size=4, shuffle=True)\n",
    "F1 = nn.BCELoss()\n",
    "F2 = compute_ciou_loss\n",
    "F3 = DFL_loss\n",
    "reg_max, num_class = 1, 9\n"
   ]
  },
  {
   "cell_type": "code",
   "execution_count": 7,
   "metadata": {},
   "outputs": [],
   "source": [
    "net = Model(reg_max, num_class).to(device)\n",
    "# optimizer = torch.optim.SGD(net.parameters(), lr=0.001, momentum=0.937)\n",
    "optimizer=torch.optim.Adam(net.parameters(),lr=0.001)"
   ]
  },
  {
   "cell_type": "markdown",
   "metadata": {
    "pycharm": {
     "name": "#%% md\n"
    }
   },
   "source": [
    "### 5. 训练过程"
   ]
  },
  {
   "cell_type": "code",
   "execution_count": 8,
   "metadata": {},
   "outputs": [],
   "source": [
    "torch.cuda.empty_cache()"
   ]
  },
  {
   "cell_type": "code",
   "execution_count": 9,
   "metadata": {
    "pycharm": {
     "name": "#%%\n"
    }
   },
   "outputs": [
    {
     "name": "stdout",
     "output_type": "stream",
     "text": [
      "0\n",
      "torch.Size([4, 8400])\n",
      "tensor([[3.1692,    nan,    nan,  ...,    nan,    nan,    nan],\n",
      "        [0.0060,    nan,    nan,  ...,    nan,    nan,    nan],\n",
      "        [3.2651, 2.2163,    nan,  ...,    nan,    nan,    nan],\n",
      "        [2.1332,    nan,    nan,  ...,    nan,    nan,    nan]],\n",
      "       grad_fn=<MulBackward0>)\n",
      "tensor([[1.2602,    nan,    nan,  ...,    nan,    nan,    nan],\n",
      "        [0.5060,    nan,    nan,  ...,    nan,    nan,    nan],\n",
      "        [1.2657, 1.1892,    nan,  ...,    nan,    nan,    nan],\n",
      "        [1.1809,    nan,    nan,  ...,    nan,    nan,    nan]],\n",
      "       grad_fn=<SubBackward0>)\n",
      "1\n",
      "torch.Size([4, 8400])\n",
      "tensor([[nan, nan, nan,  ..., nan, nan, nan],\n",
      "        [nan, nan, nan,  ..., nan, nan, nan],\n",
      "        [nan, nan, nan,  ..., nan, nan, nan],\n",
      "        [nan, nan, nan,  ..., nan, nan, nan]], grad_fn=<MulBackward0>)\n",
      "tensor([[nan, nan, nan,  ..., nan, nan, nan],\n",
      "        [nan, nan, nan,  ..., nan, nan, nan],\n",
      "        [nan, nan, nan,  ..., nan, nan, nan],\n",
      "        [nan, nan, nan,  ..., nan, nan, nan]], grad_fn=<SubBackward0>)\n",
      "epoch = 0, Loss = 0.5402\n"
     ]
    }
   ],
   "source": [
    "max_epoch = 1\n",
    "all_loss = []\n",
    "for epoch in range(max_epoch):\n",
    "    losses, n = 0, 0\n",
    "    for i, (image, target_class, target_bbox) in enumerate(dataloader):\n",
    "        image = image.to(device)\n",
    "\n",
    "        target_class = target_class.to(device)\n",
    "        target_bbox = target_bbox.to(device)\n",
    "        BLS1, CLS1, BLS2, CLS2, BLS3, CLS3 = net(image)\n",
    "        print(i)\n",
    "        BLS1 = BLS1.flatten(2).transpose(1, 2)\n",
    "        BLS2 = BLS2.flatten(2).transpose(1, 2)\n",
    "        BLS3 = BLS3.flatten(2).transpose(1, 2)\n",
    "        CLS1 = CLS1.flatten(2).transpose(1, 2)\n",
    "        CLS2 = CLS2.flatten(2).transpose(1, 2)\n",
    "        CLS3 = CLS3.flatten(2).transpose(1, 2)\n",
    "        BLS = torch.cat((BLS1, BLS2, BLS3), dim=1) # [bs, 8400, 4]\n",
    "        CLS = torch.cat((CLS1, CLS2, CLS3), dim=1) # [bs, 8400, 9]\n",
    "        # print(BLS)\n",
    "        # print(CLS)\n",
    "\n",
    "        # CLS = nn.Sigmoid()(CLS)\n",
    "        # CLS_loss = F1(CLS, target_class) # 计算分类损失\n",
    "        \n",
    "        CiOU_out = F2(BLS, target_bbox)\n",
    "        print(CiOU_out)\n",
    "        if(i==1):\n",
    "            break\n",
    "        CiOU_loss = torch.sum(CiOU_out[~torch.isnan(CiOU_out)]) # 计算边框回归损失\n",
    "        for name,params in net.named_parameters():\n",
    "            if torch.isnan(params).any():\n",
    "                print(name)\n",
    "        # DFL_loss = F3(BLS, target_bbox) # 计算中心点回归损失\n",
    "        alpha = 0.4\n",
    "        Loss=alpha*CiOU_loss\n",
    "        # Loss=(1-alpha)*DFL_loss \n",
    "        # Loss=CLS_loss\n",
    "        # Loss = CLS_loss + alpha*CiOU_loss + (1-alpha)*DFL_loss # 计算总Loss\n",
    "        # print(Loss.item())\n",
    "        losses += Loss.item()\n",
    "        n += target_bbox.shape[0]\n",
    "        optimizer.zero_grad()\n",
    "        Loss.backward()\n",
    "        optimizer.step()\n",
    "    print(f'epoch = {epoch}, Loss = {losses / n:.4f}')\n",
    "    all_loss.append(losses / n)"
   ]
  },
  {
   "cell_type": "markdown",
   "metadata": {
    "pycharm": {
     "name": "#%% md\n"
    }
   },
   "source": [
    "### 6. 绘制Loss图"
   ]
  },
  {
   "cell_type": "code",
   "execution_count": 10,
   "metadata": {
    "pycharm": {
     "name": "#%%\n"
    }
   },
   "outputs": [
    {
     "data": {
      "image/png": "[encoded data removed]",
      "text/plain": [
       "<Figure size 640x480 with 1 Axes>"
      ]
     },
     "metadata": {},
     "output_type": "display_data"
    }
   ],
   "source": [
    "plt.plot(all_loss, color='blue')\n",
    "plt.ylabel('Loss')\n",
    "plt.show()\n"
   ]
  }
 ],
 "metadata": {
  "kernelspec": {
   "display_name": "Python 3 (ipykernel)",
   "language": "python",
   "name": "python3"
  },
  "language_info": {
   "codemirror_mode": {
    "name": "ipython",
    "version": 3
   },
   "file_extension": ".py",
   "mimetype": "text/x-python",
   "name": "python",
   "nbconvert_exporter": "python",
   "pygments_lexer": "ipython3",
   "version": "3.8.0"
  },
  "toc": {
   "base_numbering": 1,
   "nav_menu": {},
   "number_sections": true,
   "sideBar": true,
   "skip_h1_title": false,
   "title_cell": "Table of Contents",
   "title_sidebar": "Contents",
   "toc_cell": false,
   "toc_position": {},
   "toc_section_display": true,
   "toc_window_display": false
  },
  "varInspector": {
   "cols": {
    "lenName": 16,
    "lenType": 16,
    "lenVar": 40
   },
   "kernels_config": {
    "python": {
     "delete_cmd_postfix": "",
     "delete_cmd_prefix": "del ",
     "library": "var_list.py",
     "varRefreshCmd": "print(var_dic_list())"
    },
    "r": {
     "delete_cmd_postfix": ") ",
     "delete_cmd_prefix": "rm(",
     "library": "var_list.r",
     "varRefreshCmd": "cat(var_dic_list()) "
    }
   },
   "types_to_exclude": [
    "module",
    "function",
    "builtin_function_or_method",
    "instance",
    "_Feature"
   ],
   "window_display": false
  }
 },
 "nbformat": 4,
 "nbformat_minor": 1
}

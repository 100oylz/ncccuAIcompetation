{
 "cells": [
  {
   "cell_type": "markdown",
   "metadata": {
    "collapsed": false,
    "pycharm": {
     "name": "#%% md\n"
    }
   },
   "source": [
    "### 1. 加载模块"
   ]
  },
  {
   "cell_type": "code",
   "execution_count": 1,
   "metadata": {
    "collapsed": true
   },
   "outputs": [],
   "source": [
    "%load_ext autoreload\n",
    "%autoreload 2\n",
    "from utils import load_all\n",
    "from Loss_Function import CLOULoss, DistributionFocalLoss\n",
    "from Model import Model\n",
    "import torch\n",
    "import torch.nn as nn\n",
    "import matplotlib.pyplot as plt\n",
    "from torch.utils.data import DataLoader, Dataset, random_split\n",
    "from torchvision import transforms\n",
    "import config"
   ]
  },
  {
   "cell_type": "markdown",
   "metadata": {
    "collapsed": false,
    "pycharm": {
     "name": "#%% md\n"
    }
   },
   "source": [
    "### 2.测试csv"
   ]
  },
  {
   "cell_type": "code",
   "execution_count": 2,
   "metadata": {
    "collapsed": false,
    "pycharm": {
     "name": "#%%\n"
    }
   },
   "outputs": [],
   "source": [
    "# image, csv = load_all(config.DIRPATH)"
   ]
  },
  {
   "cell_type": "code",
   "execution_count": 3,
   "metadata": {
    "collapsed": false,
    "pycharm": {
     "name": "#%%\n"
    }
   },
   "outputs": [],
   "source": [
    "# csv_slice = csv[3].iloc[:, 3:].values\n",
    "# csv"
   ]
  },
  {
   "cell_type": "markdown",
   "metadata": {
    "collapsed": false,
    "pycharm": {
     "name": "#%% md\n"
    }
   },
   "source": [
    "### 3. 定义Dataset"
   ]
  },
  {
   "cell_type": "code",
   "execution_count": 4,
   "metadata": {
    "collapsed": false,
    "pycharm": {
     "name": "#%%\n"
    }
   },
   "outputs": [],
   "source": [
    "data_transform = transforms.Compose([\n",
    "    transforms.ToTensor(),\n",
    "    transforms.Resize((640, 640)),\n",
    "    transforms.Normalize((0.5,), (0.5,))\n",
    "])\n",
    "class_to_index = {\n",
    "    'E2': 0, 'B52': 1, 'B2': 2, 'Mirage2000': 3, 'F4': 4,\n",
    "    'F14': 5, 'Tornado': 6, 'J20': 7, 'JAS39': 8\n",
    "}\n",
    "\n",
    "class MyDataset(Dataset):\n",
    "    '''\n",
    "    将图片和[class, Bbox]转化为Tensor\n",
    "    返回值：\n",
    "    1. image: [bs, 640, 640, 3]\n",
    "    2. target: [bs, 物品个数, class, xmin, ymin, xmax, ymax]\n",
    "    '''\n",
    "    def __init__(self, path, transform):\n",
    "        super().__init__()\n",
    "        self.image, self.csv = load_all(path)\n",
    "        self.transform = transform\n",
    "    def __len__(self):\n",
    "        return len(self.image)\n",
    "\n",
    "    def __getitem__(self, index):\n",
    "        image = self.transform(self.image[index])\n",
    "        csv = self.csv[index]\n",
    "        # filename width height class xmin ymin xmax ymax\n",
    "        target_array = csv.iloc[:, 3:].values\n",
    "        target = torch.zeros((20, 5))\n",
    "        for i in range(len(target_array)):\n",
    "            target[i, 0] = class_to_index[target_array[i][0]]\n",
    "            target[i, 1] = target_array[i][1]\n",
    "            target[i, 2] = target_array[i][2]\n",
    "            target[i, 3] = target_array[i][3]\n",
    "            target[i, 4] = target_array[i][4]\n",
    "\n",
    "        return image, target"
   ]
  },
  {
   "cell_type": "markdown",
   "metadata": {
    "collapsed": false,
    "pycharm": {
     "name": "#%% md\n"
    }
   },
   "source": [
    "### 4. 定义Dataloader, net, Loss_Function, optimizer"
   ]
  },
  {
   "cell_type": "code",
   "execution_count": 5,
   "metadata": {},
   "outputs": [],
   "source": [
    "dataset = MyDataset(config.DIRPATH, data_transform)"
   ]
  },
  {
   "cell_type": "code",
   "execution_count": 6,
   "metadata": {
    "collapsed": false,
    "pycharm": {
     "name": "#%%\n"
    }
   },
   "outputs": [],
   "source": [
    "device = torch.device('cuda')\n",
    "dataloader = DataLoader(dataset=dataset, batch_size=4, shuffle=True)\n",
    "F1 = nn.BCELoss()\n",
    "F2 = CLOULoss()\n",
    "F3 = DistributionFocalLoss()\n",
    "reg_max, num_class = 20, 9\n",
    "net = Model(reg_max, num_class).to(device)\n",
    "optimizer = torch.optim.SGD(net.parameters(), lr=0.01, momentum=0.937)"
   ]
  },
  {
   "cell_type": "markdown",
   "metadata": {
    "collapsed": false,
    "pycharm": {
     "name": "#%% md\n"
    }
   },
   "source": [
    "### 5. 训练过程"
   ]
  },
  {
   "cell_type": "code",
   "execution_count": 7,
   "metadata": {},
   "outputs": [],
   "source": [
    "torch.cuda.empty_cache()"
   ]
  },
  {
   "cell_type": "code",
   "execution_count": 8,
   "metadata": {
    "collapsed": false,
    "pycharm": {
     "name": "#%%\n"
    }
   },
   "outputs": [
    {
     "name": "stdout",
     "output_type": "stream",
     "text": [
      "torch.Size([4, 80, 80, 80]) torch.Size([4, 80, 40, 40]) torch.Size([4, 80, 20, 20]) torch.Size([4, 9, 80, 80]) torch.Size([4, 9, 40, 40]) torch.Size([4, 9, 20, 20])\n"
     ]
    },
    {
     "ename": "RuntimeError",
     "evalue": "Sizes of tensors must match except in dimension 2. Got 20 and 80 (The offending index is 0)",
     "output_type": "error",
     "traceback": [
      "\u001b[1;31m---------------------------------------------------------------------------\u001b[0m",
      "\u001b[1;31mRuntimeError\u001b[0m                              Traceback (most recent call last)",
      "\u001b[1;32md:\\ProgramProject\\PycharmProject\\ObjectDetection_YOLO\\test.ipynb 单元格 13\u001b[0m line \u001b[0;36m6\n\u001b[0;32m      <a href='vscode-notebook-cell:/d%3A/ProgramProject/PycharmProject/ObjectDetection_YOLO/test.ipynb#X13sZmlsZQ%3D%3D?line=3'>4</a>\u001b[0m BLS1, CLS1, BLS2, CLS2, BLS3, CLS3 \u001b[39m=\u001b[39m net(image)\n\u001b[0;32m      <a href='vscode-notebook-cell:/d%3A/ProgramProject/PycharmProject/ObjectDetection_YOLO/test.ipynb#X13sZmlsZQ%3D%3D?line=4'>5</a>\u001b[0m \u001b[39mprint\u001b[39m(BLS1\u001b[39m.\u001b[39mshape, BLS2\u001b[39m.\u001b[39mshape, BLS3\u001b[39m.\u001b[39mshape, CLS1\u001b[39m.\u001b[39mshape, CLS2\u001b[39m.\u001b[39mshape, CLS3\u001b[39m.\u001b[39mshape)\n\u001b[1;32m----> <a href='vscode-notebook-cell:/d%3A/ProgramProject/PycharmProject/ObjectDetection_YOLO/test.ipynb#X13sZmlsZQ%3D%3D?line=5'>6</a>\u001b[0m BLS \u001b[39m=\u001b[39m torch\u001b[39m.\u001b[39;49mcat((BLS1, BLS2, BLS3), dim\u001b[39m=\u001b[39;49m\u001b[39m1\u001b[39;49m) \u001b[39m# (b, 8400, 80)\u001b[39;00m\n\u001b[0;32m      <a href='vscode-notebook-cell:/d%3A/ProgramProject/PycharmProject/ObjectDetection_YOLO/test.ipynb#X13sZmlsZQ%3D%3D?line=6'>7</a>\u001b[0m CLS \u001b[39m=\u001b[39m torch\u001b[39m.\u001b[39mcat((CLS1, CLS2, CLS3), dim\u001b[39m=\u001b[39m\u001b[39m1\u001b[39m) \u001b[39m# (b, 8400, 4)\u001b[39;00m\n\u001b[0;32m      <a href='vscode-notebook-cell:/d%3A/ProgramProject/PycharmProject/ObjectDetection_YOLO/test.ipynb#X13sZmlsZQ%3D%3D?line=7'>8</a>\u001b[0m \u001b[39mprint\u001b[39m(BLS\u001b[39m.\u001b[39mshape, CLS\u001b[39m.\u001b[39mshape)\n",
      "\u001b[1;31mRuntimeError\u001b[0m: Sizes of tensors must match except in dimension 2. Got 20 and 80 (The offending index is 0)"
     ]
    }
   ],
   "source": [
    "for i, (image, target) in enumerate(dataloader):\n",
    "    image = image.to(device)\n",
    "    target = target.to(device)\n",
    "    BLS1, CLS1, BLS2, CLS2, BLS3, CLS3 = net(image)\n",
    "    print(BLS1.shape, BLS2.shape, BLS3.shape, CLS1.shape, CLS2.shape, CLS3.shape)\n",
    "    BLS = torch.cat((BLS1, BLS2, BLS3), dim=1) # (b, 8400, 80)\n",
    "    CLS = torch.cat((CLS1, CLS2, CLS3), dim=1) # (b, 8400, 4)\n",
    "    print(BLS.shape, CLS.shape)\n",
    "    break"
   ]
  }
 ],
 "metadata": {
  "kernelspec": {
   "display_name": "py38_AI",
   "language": "python",
   "name": "python3"
  },
  "language_info": {
   "codemirror_mode": {
    "name": "ipython",
    "version": 3
   },
   "file_extension": ".py",
   "mimetype": "text/x-python",
   "name": "python",
   "nbconvert_exporter": "python",
   "pygments_lexer": "ipython3",
   "version": "3.8.0"
  }
 },
 "nbformat": 4,
 "nbformat_minor": 0
}

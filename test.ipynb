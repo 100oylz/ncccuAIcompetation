{
 "cells": [
  {
   "cell_type": "markdown",
   "metadata": {
    "collapsed": false,
    "pycharm": {
     "name": "#%% md\n"
    }
   },
   "source": [
    "### 1. 加载模块"
   ]
  },
  {
   "cell_type": "code",
   "execution_count": 1,
   "metadata": {
    "collapsed": true
   },
   "outputs": [],
   "source": [
    "%load_ext autoreload\n",
    "%autoreload 2\n",
    "from utils import load_all\n",
    "from Loss_Function import compute_ciou_loss, DFL_loss\n",
    "from Model import Model\n",
    "import torch\n",
    "import torch.nn as nn\n",
    "import matplotlib.pyplot as plt\n",
    "from torch.utils.data import DataLoader, Dataset, random_split\n",
    "from torchvision import transforms\n",
    "import config\n"
   ]
  },
  {
   "cell_type": "markdown",
   "metadata": {
    "collapsed": false,
    "pycharm": {
     "name": "#%% md\n"
    }
   },
   "source": [
    "### 2.测试csv"
   ]
  },
  {
   "cell_type": "code",
   "execution_count": 2,
   "metadata": {
    "collapsed": false,
    "pycharm": {
     "name": "#%%\n"
    }
   },
   "outputs": [],
   "source": [
    "# image, csv = load_all(config.DIRPATH)"
   ]
  },
  {
   "cell_type": "code",
   "execution_count": 3,
   "metadata": {
    "collapsed": false,
    "pycharm": {
     "name": "#%%\n"
    }
   },
   "outputs": [],
   "source": [
    "# csv_slice = csv[3].iloc[:, 3:].values\n",
    "# csv"
   ]
  },
  {
   "cell_type": "markdown",
   "metadata": {
    "collapsed": false,
    "pycharm": {
     "name": "#%% md\n"
    }
   },
   "source": [
    "### 3. 定义Dataset"
   ]
  },
  {
   "cell_type": "code",
   "execution_count": 4,
   "metadata": {
    "collapsed": false,
    "pycharm": {
     "name": "#%%\n"
    }
   },
   "outputs": [],
   "source": [
    "data_transform = transforms.Compose([\n",
    "    transforms.ToTensor(),\n",
    "    transforms.Resize((640, 640)),\n",
    "    transforms.Normalize((0.5,0.5,0.5), (0.5,0.5,0.5))\n",
    "])\n",
    "class_to_index = {\n",
    "    'E2': 0, 'B52': 1, 'B2': 2, 'Mirage2000': 3, 'F4': 4,\n",
    "    'F14': 5, 'Tornado': 6, 'J20': 7, 'JAS39': 8\n",
    "}\n",
    "\n",
    "class MyDataset(Dataset):\n",
    "    '''\n",
    "    将图片和[class, Bbox]转化为Tensor\n",
    "    返回值：\n",
    "    1. image: [bs, 640, 640, 3]\n",
    "    2. target: [bs, 物品个数, class, xmin, ymin, xmax, ymax]\n",
    "    '''\n",
    "    def __init__(self, path, transform):\n",
    "        super().__init__()\n",
    "        self.image, self.csv = load_all(path)\n",
    "        self.transform = transform\n",
    "    def __len__(self):\n",
    "        return len(self.image)\n",
    "\n",
    "    def __getitem__(self, index):\n",
    "        image = self.transform(self.image[index])\n",
    "        csv = self.csv[index]\n",
    "        # filename width height class xmin ymin xmax ymax\n",
    "        target_array = csv.iloc[:, 3:].values\n",
    "        target_class = torch.zeros((8400, 9))\n",
    "        target_bbox = torch.zeros((8400, 4))\n",
    "        for i in range(len(target_array)):\n",
    "            target_class[i][class_to_index[target_array[i][0]]] = 1\n",
    "            target_bbox[i, 0] = target_array[i][1]\n",
    "            target_bbox[i, 1] = target_array[i][2]\n",
    "            target_bbox[i, 2] = target_array[i][3]\n",
    "            target_bbox[i, 3] = target_array[i][4]\n",
    "\n",
    "        return image, target_class, target_bbox"
   ]
  },
  {
   "cell_type": "markdown",
   "metadata": {
    "collapsed": false,
    "pycharm": {
     "name": "#%% md\n"
    }
   },
   "source": [
    "### 4. 定义Dataloader, net, Loss_Function, optimizer"
   ]
  },
  {
   "cell_type": "code",
   "execution_count": 5,
   "metadata": {},
   "outputs": [],
   "source": [
    "dataset = MyDataset(config.DIRPATH, data_transform)"
   ]
  },
  {
   "cell_type": "code",
   "execution_count": 6,
   "metadata": {
    "collapsed": false,
    "pycharm": {
     "name": "#%%\n"
    }
   },
   "outputs": [],
   "source": [
    "# device = torch.device('cuda')\n",
    "device = torch.device('cpu')\n",
    "dataloader = DataLoader(dataset=dataset, batch_size=4, shuffle=True)\n",
    "F1 = nn.BCELoss()\n",
    "F2 = compute_ciou_loss\n",
    "F3 = DFL_loss\n",
    "reg_max, num_class = 1, 9\n"
   ]
  },
  {
   "cell_type": "code",
   "execution_count": 60,
   "metadata": {},
   "outputs": [],
   "source": [
    "net = Model(reg_max, num_class).to(device)\n",
    "# optimizer = torch.optim.SGD(net.parameters(), lr=0.001, momentum=0.937)\n",
    "optimizer=torch.optim.Adam(net.parameters(),lr=0.001)"
   ]
  },
  {
   "cell_type": "markdown",
   "metadata": {
    "collapsed": false,
    "pycharm": {
     "name": "#%% md\n"
    }
   },
   "source": [
    "### 5. 训练过程"
   ]
  },
  {
   "cell_type": "code",
   "execution_count": 61,
   "metadata": {},
   "outputs": [],
   "source": [
    "torch.cuda.empty_cache()"
   ]
  },
  {
   "cell_type": "code",
   "execution_count": 62,
   "metadata": {
    "collapsed": false,
    "pycharm": {
     "name": "#%%\n"
    }
   },
   "outputs": [
    {
     "name": "stdout",
     "output_type": "stream",
     "text": [
      "0\n",
      "torch.Size([4, 8400])\n",
      "3.047091484069824\n",
      "1\n"
     ]
    },
    {
     "ename": "RuntimeError",
     "evalue": "all elements of input should be between 0 and 1",
     "output_type": "error",
     "traceback": [
      "\u001b[1;31m---------------------------------------------------------------------------\u001b[0m",
      "\u001b[1;31mRuntimeError\u001b[0m                              Traceback (most recent call last)",
      "\u001b[1;32md:\\ProgramProject\\PycharmProject\\ObjectDetection_YOLO\\test.ipynb 单元格 14\u001b[0m line \u001b[0;36m2\n\u001b[0;32m     <a href='vscode-notebook-cell:/d%3A/ProgramProject/PycharmProject/ObjectDetection_YOLO/test.ipynb#X15sZmlsZQ%3D%3D?line=19'>20</a>\u001b[0m \u001b[39m# print(BLS)\u001b[39;00m\n\u001b[0;32m     <a href='vscode-notebook-cell:/d%3A/ProgramProject/PycharmProject/ObjectDetection_YOLO/test.ipynb#X15sZmlsZQ%3D%3D?line=20'>21</a>\u001b[0m \u001b[39m# print(CLS)\u001b[39;00m\n\u001b[0;32m     <a href='vscode-notebook-cell:/d%3A/ProgramProject/PycharmProject/ObjectDetection_YOLO/test.ipynb#X15sZmlsZQ%3D%3D?line=21'>22</a>\u001b[0m \u001b[39m# for param in net.parameters():\u001b[39;00m\n\u001b[0;32m     <a href='vscode-notebook-cell:/d%3A/ProgramProject/PycharmProject/ObjectDetection_YOLO/test.ipynb#X15sZmlsZQ%3D%3D?line=22'>23</a>\u001b[0m \u001b[39m#     print(param)\u001b[39;00m\n\u001b[0;32m     <a href='vscode-notebook-cell:/d%3A/ProgramProject/PycharmProject/ObjectDetection_YOLO/test.ipynb#X15sZmlsZQ%3D%3D?line=23'>24</a>\u001b[0m CLS \u001b[39m=\u001b[39m nn\u001b[39m.\u001b[39mSigmoid()(CLS)\n\u001b[1;32m---> <a href='vscode-notebook-cell:/d%3A/ProgramProject/PycharmProject/ObjectDetection_YOLO/test.ipynb#X15sZmlsZQ%3D%3D?line=24'>25</a>\u001b[0m CLS_loss \u001b[39m=\u001b[39m F1(CLS, target_class) \u001b[39m# 计算分类损失\u001b[39;00m\n\u001b[0;32m     <a href='vscode-notebook-cell:/d%3A/ProgramProject/PycharmProject/ObjectDetection_YOLO/test.ipynb#X15sZmlsZQ%3D%3D?line=25'>26</a>\u001b[0m CiOU_out \u001b[39m=\u001b[39m F2(BLS, target_bbox)\n\u001b[0;32m     <a href='vscode-notebook-cell:/d%3A/ProgramProject/PycharmProject/ObjectDetection_YOLO/test.ipynb#X15sZmlsZQ%3D%3D?line=26'>27</a>\u001b[0m CiOU_loss \u001b[39m=\u001b[39m torch\u001b[39m.\u001b[39msum(CiOU_out[\u001b[39m~\u001b[39mtorch\u001b[39m.\u001b[39misnan(CiOU_out)]) \u001b[39m# 计算边框回归损失\u001b[39;00m\n",
      "File \u001b[1;32md:\\environment\\anaconda\\envs\\py38_AI\\lib\\site-packages\\torch\\nn\\modules\\module.py:889\u001b[0m, in \u001b[0;36mModule._call_impl\u001b[1;34m(self, *input, **kwargs)\u001b[0m\n\u001b[0;32m    887\u001b[0m     result \u001b[39m=\u001b[39m \u001b[39mself\u001b[39m\u001b[39m.\u001b[39m_slow_forward(\u001b[39m*\u001b[39m\u001b[39minput\u001b[39m, \u001b[39m*\u001b[39m\u001b[39m*\u001b[39mkwargs)\n\u001b[0;32m    888\u001b[0m \u001b[39melse\u001b[39;00m:\n\u001b[1;32m--> 889\u001b[0m     result \u001b[39m=\u001b[39m \u001b[39mself\u001b[39;49m\u001b[39m.\u001b[39;49mforward(\u001b[39m*\u001b[39;49m\u001b[39minput\u001b[39;49m, \u001b[39m*\u001b[39;49m\u001b[39m*\u001b[39;49mkwargs)\n\u001b[0;32m    890\u001b[0m \u001b[39mfor\u001b[39;00m hook \u001b[39min\u001b[39;00m itertools\u001b[39m.\u001b[39mchain(\n\u001b[0;32m    891\u001b[0m         _global_forward_hooks\u001b[39m.\u001b[39mvalues(),\n\u001b[0;32m    892\u001b[0m         \u001b[39mself\u001b[39m\u001b[39m.\u001b[39m_forward_hooks\u001b[39m.\u001b[39mvalues()):\n\u001b[0;32m    893\u001b[0m     hook_result \u001b[39m=\u001b[39m hook(\u001b[39mself\u001b[39m, \u001b[39minput\u001b[39m, result)\n",
      "File \u001b[1;32md:\\environment\\anaconda\\envs\\py38_AI\\lib\\site-packages\\torch\\nn\\modules\\loss.py:613\u001b[0m, in \u001b[0;36mBCELoss.forward\u001b[1;34m(self, input, target)\u001b[0m\n\u001b[0;32m    611\u001b[0m \u001b[39mdef\u001b[39;00m \u001b[39mforward\u001b[39m(\u001b[39mself\u001b[39m, \u001b[39minput\u001b[39m: Tensor, target: Tensor) \u001b[39m-\u001b[39m\u001b[39m>\u001b[39m Tensor:\n\u001b[0;32m    612\u001b[0m     \u001b[39massert\u001b[39;00m \u001b[39mself\u001b[39m\u001b[39m.\u001b[39mweight \u001b[39mis\u001b[39;00m \u001b[39mNone\u001b[39;00m \u001b[39mor\u001b[39;00m \u001b[39misinstance\u001b[39m(\u001b[39mself\u001b[39m\u001b[39m.\u001b[39mweight, Tensor)\n\u001b[1;32m--> 613\u001b[0m     \u001b[39mreturn\u001b[39;00m F\u001b[39m.\u001b[39;49mbinary_cross_entropy(\u001b[39minput\u001b[39;49m, target, weight\u001b[39m=\u001b[39;49m\u001b[39mself\u001b[39;49m\u001b[39m.\u001b[39;49mweight, reduction\u001b[39m=\u001b[39;49m\u001b[39mself\u001b[39;49m\u001b[39m.\u001b[39;49mreduction)\n",
      "File \u001b[1;32md:\\environment\\anaconda\\envs\\py38_AI\\lib\\site-packages\\torch\\nn\\functional.py:2759\u001b[0m, in \u001b[0;36mbinary_cross_entropy\u001b[1;34m(input, target, weight, size_average, reduce, reduction)\u001b[0m\n\u001b[0;32m   2756\u001b[0m     new_size \u001b[39m=\u001b[39m _infer_size(target\u001b[39m.\u001b[39msize(), weight\u001b[39m.\u001b[39msize())\n\u001b[0;32m   2757\u001b[0m     weight \u001b[39m=\u001b[39m weight\u001b[39m.\u001b[39mexpand(new_size)\n\u001b[1;32m-> 2759\u001b[0m \u001b[39mreturn\u001b[39;00m torch\u001b[39m.\u001b[39;49m_C\u001b[39m.\u001b[39;49m_nn\u001b[39m.\u001b[39;49mbinary_cross_entropy(\u001b[39minput\u001b[39;49m, target, weight, reduction_enum)\n",
      "\u001b[1;31mRuntimeError\u001b[0m: all elements of input should be between 0 and 1"
     ]
    }
   ],
   "source": [
    "max_epoch = 2\n",
    "all_loss = []\n",
    "for epoch in range(max_epoch):\n",
    "    losses, n = 0, 0\n",
    "    for i, (image, target_class, target_bbox) in enumerate(dataloader):\n",
    "        image = image.to(device)\n",
    "\n",
    "        target_class = target_class.to(device)\n",
    "        target_bbox = target_bbox.to(device)\n",
    "        BLS1, CLS1, BLS2, CLS2, BLS3, CLS3 = net(image)\n",
    "        print(i)\n",
    "        BLS1 = BLS1.flatten(2).transpose(1, 2)\n",
    "        BLS2 = BLS2.flatten(2).transpose(1, 2)\n",
    "        BLS3 = BLS3.flatten(2).transpose(1, 2)\n",
    "        CLS1 = CLS1.flatten(2).transpose(1, 2)\n",
    "        CLS2 = CLS2.flatten(2).transpose(1, 2)\n",
    "        CLS3 = CLS3.flatten(2).transpose(1, 2)\n",
    "        BLS = torch.cat((BLS1, BLS2, BLS3), dim=1) # [bs, 8400, 4]\n",
    "        CLS = torch.cat((CLS1, CLS2, CLS3), dim=1) # [bs, 8400, 9]\n",
    "        # print(BLS)\n",
    "        # print(CLS)\n",
    "        # for param in net.parameters():\n",
    "        #     print(param)\n",
    "        CLS = nn.Sigmoid()(CLS)\n",
    "        CLS_loss = F1(CLS, target_class) # 计算分类损失\n",
    "        CiOU_out = F2(BLS, target_bbox)\n",
    "        CiOU_loss = torch.sum(CiOU_out[~torch.isnan(CiOU_out)]) # 计算边框回归损失\n",
    "        DFL_loss = F3(BLS, target_bbox) # 计算中心点回归损失\n",
    "        alpha = 0.4\n",
    "        Loss = CLS_loss + alpha*CiOU_loss + (1-alpha)*DFL_loss # 计算总Loss\n",
    "        print(Loss.item())\n",
    "        losses += Loss.item()\n",
    "        n += target_bbox.shape[0]\n",
    "        optimizer.zero_grad()\n",
    "        Loss.backward()\n",
    "        optimizer.step()\n",
    "    print(f'epoch = {epoch}, Loss = {losses / n:.4f}')\n",
    "    all_loss.append(losses / n)"
   ]
  },
  {
   "cell_type": "markdown",
   "metadata": {
    "collapsed": false,
    "pycharm": {
     "name": "#%% md\n"
    }
   },
   "source": [
    "### 6. 绘制Loss图"
   ]
  },
  {
   "cell_type": "code",
   "execution_count": null,
   "metadata": {
    "collapsed": false,
    "pycharm": {
     "name": "#%%\n"
    }
   },
   "outputs": [],
   "source": [
    "plt.plot(all_loss, color='blue')\n",
    "plt.ylabel('Loss')\n",
    "plt.show()\n"
   ]
  }
 ],
 "metadata": {
  "kernelspec": {
   "display_name": "py38_AI",
   "language": "python",
   "name": "python3"
  },
  "language_info": {
   "codemirror_mode": {
    "name": "ipython",
    "version": 3
   },
   "file_extension": ".py",
   "mimetype": "text/x-python",
   "name": "python",
   "nbconvert_exporter": "python",
   "pygments_lexer": "ipython3",
   "version": "3.8.0"
  }
 },
 "nbformat": 4,
 "nbformat_minor": 0
}
